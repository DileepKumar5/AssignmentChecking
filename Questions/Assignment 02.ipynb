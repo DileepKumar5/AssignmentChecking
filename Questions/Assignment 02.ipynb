{
  "nbformat": 4,
  "nbformat_minor": 0,
  "metadata": {
    "colab": {
      "provenance": []
    },
    "kernelspec": {
      "name": "python3",
      "display_name": "Python 3"
    },
    "language_info": {
      "name": "python"
    }
  },
  "cells": [
    {
      "cell_type": "markdown",
      "source": [
        "# Assignment: ANN Model and a CNN for Image Classification\n",
        "\n",
        "#### Objective:\n",
        "\n",
        "The aim of this assignment is to help you understand the key differences between Artificial Neural Networks (ANNs) and Convolutional Neural Networks (CNNs) in the context of image classification. By the end of this task, you should be able to convert an ANN to a CNN and evaluate its performance on the MNIST dataset.\n",
        "\n",
        "#### Tasks:\n",
        "\n",
        "1. **Data Preprocessing:**\n",
        "\n",
        "   * Load the MNIST dataset using TensorFlow.\n",
        "   * Normalize the training and testing images by dividing the pixel values by 255.0.\n",
        "   * Reshape the input data to make it compatible with the CNN model (28x28x1).\n",
        "\n",
        "2. **Build an Artificial Neural Network (ANN):**\n",
        "\n",
        "   * Create a simple feed-forward ANN model using TensorFlow/Keras.\n",
        "   * Use at least two fully connected (dense) layers and one output layer.\n",
        "   * Compile the model with an appropriate optimizer, loss function, and metrics.\n",
        "\n",
        "3. **Evaluate the ANN:**\n",
        "\n",
        "   * Train the ANN model on the MNIST training data and evaluate it on the test data.\n",
        "   * Record the performance of the model, including accuracy and loss.\n",
        "\n",
        "4. **Convert to a Convolutional Neural Network (CNN):**\n",
        "\n",
        "   * Modify the existing ANN model to a CNN.\n",
        "\n",
        "     * Add at least one convolutional layer followed by a pooling layer.\n",
        "     * Retain the fully connected layers after the convolutional and pooling layers.\n",
        "   * Compile and train the CNN model on the MNIST data.\n",
        "   * Evaluate the CNN model on the test data.\n",
        "\n",
        "5. **Compare the Results:**\n",
        "\n",
        "   * Compare the performance of the ANN and CNN models in terms of accuracy, training time, and loss.\n",
        "   * Discuss how the CNN improved or altered the model's ability to classify MNIST images.\n",
        "\n",
        "6. **Conclusion:**\n",
        "\n",
        "   * Summarize your findings, emphasizing the advantages and challenges of using CNNs over ANNs for image classification tasks.\n",
        "\n",
        "#### Submission:\n",
        "\n",
        "* Submit the Jupyter notebook with the code, including comments and explanations for each step.\n",
        "* Include a brief report discussing your observations and conclusions.\n",
        "\n",
        "#### Grading Criteria:\n",
        "\n",
        "* Correct implementation of data preprocessing.\n",
        "* Proper construction and evaluation of the ANN and CNN models.\n",
        "* Clear and accurate comparison of the models' performance.\n",
        "* Quality of explanations and insights in the report.\n",
        "\n",
        "---"
      ],
      "metadata": {
        "id": "8-Vx1Uiyo4do"
      }
    }
  ]
}