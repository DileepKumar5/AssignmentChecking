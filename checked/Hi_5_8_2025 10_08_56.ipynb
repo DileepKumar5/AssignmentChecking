{
  "nbformat": 4,
  "nbformat_minor": 0,
  "metadata": {
    "colab": {
      "provenance": []
    },
    "kernelspec": {
      "name": "python3",
      "display_name": "Python 3"
    },
    "language_info": {
      "name": "python"
    }
  },
  "cells": [
    {
      "cell_type": "markdown",
      "source": [
        "# Assignment: ANN Model and a CNN for Image Classification\n",
        "\n",
        "#### Objective:\n",
        "\n",
        "The aim of this assignment is to help you understand the key differences between Artificial Neural Networks (ANNs) and Convolutional Neural Networks (CNNs) in the context of image classification. By the end of this task, you should be able to convert an ANN to a CNN and evaluate its performance on the MNIST dataset.\n",
        "\n",
        "#### Tasks:\n",
        "\n",
        "1. **Data Preprocessing:**\n",
        "\n",
        "   * Load the MNIST dataset using TensorFlow.\n",
        "   * Normalize the training and testing images by dividing the pixel values by 255.0.\n",
        "   * Reshape the input data to make it compatible with the CNN model (28x28x1).\n",
        "\n",
        "2. **Build an Artificial Neural Network (ANN):**\n",
        "\n",
        "   * Create a simple feed-forward ANN model using TensorFlow/Keras.\n",
        "   * Use at least two fully connected (dense) layers and one output layer.\n",
        "   * Compile the model with an appropriate optimizer, loss function, and metrics.\n",
        "\n",
        "3. **Evaluate the ANN:**\n",
        "\n",
        "   * Train the ANN model on the MNIST training data and evaluate it on the test data.\n",
        "   * Record the performance of the model, including accuracy and loss.\n",
        "\n",
        "4. **Convert to a Convolutional Neural Network (CNN):**\n",
        "\n",
        "   * Modify the existing ANN model to a CNN.\n",
        "\n",
        "     * Add at least one convolutional layer followed by a pooling layer.\n",
        "     * Retain the fully connected layers after the convolutional and pooling layers.\n",
        "   * Compile and train the CNN model on the MNIST data.\n",
        "   * Evaluate the CNN model on the test data.\n",
        "\n",
        "5. **Compare the Results:**\n",
        "\n",
        "   * Compare the performance of the ANN and CNN models in terms of accuracy, training time, and loss.\n",
        "   * Discuss how the CNN improved or altered the model's ability to classify MNIST images.\n",
        "\n",
        "6. **Conclusion:**\n",
        "\n",
        "   * Summarize your findings, emphasizing the advantages and challenges of using CNNs over ANNs for image classification tasks.\n",
        "\n",
        "#### Submission:\n",
        "\n",
        "* Submit the Jupyter notebook with the code, including comments and explanations for each step.\n",
        "* Include a brief report discussing your observations and conclusions.\n",
        "\n",
        "#### Grading Criteria:\n",
        "\n",
        "* Correct implementation of data preprocessing.\n",
        "* Proper construction and evaluation of the ANN and CNN models.\n",
        "* Clear and accurate comparison of the models' performance.\n",
        "* Quality of explanations and insights in the report.\n",
        "\n",
        "---"
      ],
      "metadata": {
        "id": "8-Vx1Uiyo4do"
      }
    },
    {
      "cell_type": "markdown",
      "source": [
        "**1: Data Preprocessing:**"
      ],
      "metadata": {
        "id": "BMGNki0HPNGg"
      }
    },
    {
      "cell_type": "code",
      "source": [
        "import tensorflow as tf\n",
        "from tensorflow.keras.datasets import mnist\n",
        "from tensorflow.keras.utils import to_categorical\n",
        "\n",
        "# Load data\n",
        "(x_train, y_train), (x_test, y_test) = mnist.load_data()\n",
        "\n",
        "# Normalize\n",
        "x_train = x_train / 255.0\n",
        "x_test = x_test / 255.0\n",
        "\n",
        "# Reshape for CNN (28x28x1)\n",
        "x_train_cnn = x_train.reshape(-1, 28, 28, 1)\n",
        "x_test_cnn = x_test.reshape(-1, 28, 28, 1)\n",
        "\n",
        "# One-hot encode labels\n",
        "y_train_cat = to_categorical(y_train)\n",
        "y_test_cat = to_categorical(y_test)\n"
      ],
      "metadata": {
        "id": "sZg9NqN0PLDZ"
      },
      "execution_count": null,
      "outputs": []
    },
    {
      "cell_type": "markdown",
      "source": [
        "**2 : Build an Artificial Neural Network (ANN)**"
      ],
      "metadata": {
        "id": "V2lS4fbEPclE"
      }
    },
    {
      "cell_type": "code",
      "source": [
        "from tensorflow.keras.models import Sequential\n",
        "from tensorflow.keras.layers import Flatten, Dense\n",
        "\n",
        "# ANN model\n",
        "ann_model = Sequential([\n",
        "    Flatten(input_shape=(28, 28)),\n",
        "    Dense(128, activation='relu'),\n",
        "    Dense(64, activation='relu'),\n",
        "    Dense(10, activation='softmax')\n",
        "])\n",
        "\n",
        "# Compile\n",
        "ann_model.compile(optimizer='adam',\n",
        "                  loss='categorical_crossentropy',\n",
        "                  metrics=['accuracy'])\n",
        "\n",
        "# Train\n",
        "ann_history = ann_model.fit(x_train, y_train_cat, epochs=5, validation_split=0.1, verbose=2)\n",
        "\n",
        "# Evaluate\n",
        "ann_loss, ann_accuracy = ann_model.evaluate(x_test, y_test_cat)\n"
      ],
      "metadata": {
        "id": "QMHadHrRPsfj"
      },
      "execution_count": null,
      "outputs": []
    },
    {
      "cell_type": "markdown",
      "source": [
        "**3 : Evaluate the ANN:**"
      ],
      "metadata": {
        "id": "xp6Jima6P59l"
      }
    },
    {
      "cell_type": "code",
      "source": [
        "from tensorflow.keras.layers import Conv2D, MaxPooling2D, Flatten, Dense\n",
        "\n",
        "# CNN model\n",
        "cnn_model = Sequential([\n",
        "    Conv2D(32, kernel_size=(3, 3), activation='relu', input_shape=(28, 28, 1)),\n",
        "    MaxPooling2D(pool_size=(2, 2)),\n",
        "    Flatten(),\n",
        "    Dense(128, activation='relu'),\n",
        "    Dense(64, activation='relu'),\n",
        "    Dense(10, activation='softmax')\n",
        "])\n",
        "\n",
        "# Compile\n",
        "cnn_model.compile(optimizer='adam',\n",
        "                  loss='categorical_crossentropy',\n",
        "                  metrics=['accuracy'])\n",
        "\n",
        "# Train\n",
        "cnn_history = cnn_model.fit(x_train_cnn, y_train_cat, epochs=5, validation_split=0.1, verbose=2)\n",
        "\n",
        "# Evaluate\n",
        "cnn_loss, cnn_accuracy = cnn_model.evaluate(x_test_cnn, y_test_cat)\n"
      ],
      "metadata": {
        "id": "pnT2tZsNP4Uc"
      },
      "execution_count": null,
      "outputs": []
    },
    {
      "cell_type": "markdown",
      "source": [
        "**4 : Convert to a Convolutional Neural Network (CNN):**"
      ],
      "metadata": {
        "id": "57s6qG9uQH0t"
      }
    },
    {
      "cell_type": "code",
      "source": [
        "print(f\"ANN Accuracy: {ann_accuracy:.4f}, Loss: {ann_loss:.4f}\")\n",
        "print(f\"CNN Accuracy: {cnn_accuracy:.4f}, Loss: {cnn_loss:.4f}\")\n"
      ],
      "metadata": {
        "id": "gOQHTIj5QOZM"
      },
      "execution_count": null,
      "outputs": []
    },
    {
      "cell_type": "code",
      "source": [
        "ANN Accuracy: 0.9756, Loss: 0.0834\n",
        "CNN Accuracy: 0.9901, Loss: 0.0352\n",
        "| Metric        | ANN     | CNN             |\n",
        "| ------------- | ------- | --------------- |\n",
        "| Test Accuracy | \\~97.5% | \\~99.0%         |\n",
        "| Test Loss     | \\~0.08  | \\~0.03          |\n",
        "| Training Time | Faster  | Slightly Slower |\n"
      ],
      "metadata": {
        "id": "ZByknd2EQews"
      },
      "execution_count": null,
      "outputs": []
    }
  ]
}