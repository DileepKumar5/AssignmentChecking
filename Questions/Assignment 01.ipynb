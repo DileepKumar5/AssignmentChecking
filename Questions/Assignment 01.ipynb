{
  "nbformat": 4,
  "nbformat_minor": 0,
  "metadata": {
    "colab": {
      "provenance": []
    },
    "kernelspec": {
      "name": "python3",
      "display_name": "Python 3"
    },
    "language_info": {
      "name": "python"
    }
  },
  "cells": [
    {
      "cell_type": "markdown",
      "source": [
        "### **MNIST Handwritten Digits Dataset - Tasks**\n",
        "\n",
        "1. Load the MNIST dataset and normalize the pixel values to the range 0-1.\n",
        "2. Reshape the 28x28 images into a 1D vector of size 784 for ANN compatibility.\n",
        "3. Build a simple ANN model with:\n",
        "   - An input layer with 784 neurons.\n",
        "   - One hidden layer with 128 neurons and ReLU activation.\n",
        "   - An output layer with 10 neurons and softmax activation.\n",
        "4. Compile the model using the Adam optimizer, sparse categorical crossentropy as the loss function, and accuracy as a metric.\n",
        "5. Train the model on the training data for 10 epochs with a batch size of 32.\n",
        "6. Evaluate the model on the test dataset and report the test accuracy.\n",
        "7. Use the trained model to predict the classes for 5 random test samples and display the images with their predicted and actual labels.\n",
        "8. Calculate precision, recall, and F1-score for each class using the test dataset and include these metrics in the evaluation report.\n",
        "9. Save the trained model to a file and reload it for predictions on new data."
      ],
      "metadata": {
        "id": "zMA-iPVasnNA"
      }
    },
    {
      "cell_type": "markdown",
      "source": [
        "### **How to Load the MNIST Dataset**\n",
        "\n",
        "```python\n",
        "from tensorflow.keras.datasets import mnist\n",
        "\n",
        "# Load the dataset\n",
        "(X_train, y_train), (X_test, y_test) = mnist.load_data()\n",
        "```"
      ],
      "metadata": {
        "id": "vSiAO-kFtCuY"
      }
    }
  ]
}